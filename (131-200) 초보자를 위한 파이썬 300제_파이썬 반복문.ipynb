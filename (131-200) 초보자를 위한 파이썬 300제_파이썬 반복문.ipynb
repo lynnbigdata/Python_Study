{
 "cells": [
  {
   "cell_type": "markdown",
   "metadata": {},
   "source": [
    "<131-140>"
   ]
  },
  {
   "cell_type": "code",
   "execution_count": 8,
   "metadata": {},
   "outputs": [
    {
     "name": "stdout",
     "output_type": "stream",
     "text": [
      "사과\n",
      "귤\n",
      "수박\n"
     ]
    }
   ],
   "source": [
    "#131,133\n",
    "#for 문의 실행결과 : 리스트에 들어있는 문자열이 한 라인에 하나씩 출력된다.\n",
    "#변수바인딩(변수='A')->변수출력(print(변수)) * 자료구조 데이터 개수\n",
    "\n",
    "과일 = ['사과','귤','수박']\n",
    "for 변수 in 과일:\n",
    "    print(변수)"
   ]
  },
  {
   "cell_type": "code",
   "execution_count": 4,
   "metadata": {},
   "outputs": [
    {
     "name": "stdout",
     "output_type": "stream",
     "text": [
      "#####\n",
      "#####\n",
      "#####\n"
     ]
    }
   ],
   "source": [
    "#132\n",
    "#for문의 핵심은 \"들여쓰기된 코드가 자료구조에 저장된 데이터 개수만큼 반복된다\"\n",
    "# 따라서 들여쓰기 된 print('#####') 코드가 세 번 실행된다.\n",
    "\n",
    "과일 = ['사과','귤','수박']\n",
    "for 변수 in 과일:\n",
    "    print('#####')\n"
   ]
  },
  {
   "cell_type": "code",
   "execution_count": 20,
   "metadata": {},
   "outputs": [
    {
     "name": "stdout",
     "output_type": "stream",
     "text": [
      "출력:  a\n",
      "출력:  b\n",
      "출력:  c\n",
      "**************************************************\n",
      "출력:  a\n",
      "출력:  b\n",
      "출력:  c\n"
     ]
    }
   ],
   "source": [
    "# 134\n",
    "# for 문을 풀어서 동일한 동작을 하는 코드를 작성하라\n",
    "for 변수 in ['a','b','c']:\n",
    "    print('출력: ', 변수)\n",
    "\n",
    "print('*'*50)\n",
    "\n",
    "변수 = 'a'\n",
    "print('출력: ', 변수)\n",
    "변수 = 'b'\n",
    "print('출력: ', 변수)\n",
    "변수 = 'c'\n",
    "print('출력: ', 변수)"
   ]
  },
  {
   "cell_type": "code",
   "execution_count": 19,
   "metadata": {},
   "outputs": [
    {
     "name": "stdout",
     "output_type": "stream",
     "text": [
      "변환:  A\n",
      "변환:  B\n",
      "변환:  C\n",
      "**************************************************\n",
      "변환:  A\n",
      "변환:  B\n",
      "변환:  C\n"
     ]
    }
   ],
   "source": [
    "#135\n",
    "#라인 1의 for문이 실행되면 변수에 첫번째 데이터를 바인딩한다\n",
    "#그리고 들여쓰기 된 라인 2의 코드를 실행한다.\n",
    "\n",
    "for 변수 in ['a','b','c']:\n",
    "    change=변수.upper()\n",
    "    print('변환: ',change)\n",
    "    \n",
    "print('*'*50)\n",
    "\n",
    "변수 = 'a'\n",
    "change=변수.upper()\n",
    "print('변환: ',change)\n",
    "변수 = 'b'\n",
    "change=변수.upper()\n",
    "print('변환: ', change)\n",
    "변수 = 'c'\n",
    "change=변수.upper()\n",
    "print('변환: ', change)"
   ]
  },
  {
   "cell_type": "code",
   "execution_count": 31,
   "metadata": {},
   "outputs": [
    {
     "name": "stdout",
     "output_type": "stream",
     "text": [
      "10\n",
      "20\n",
      "30\n",
      "**************************************************\n",
      "10\n",
      "20\n",
      "30\n",
      "**************************************************\n",
      "10\n",
      "20\n",
      "30\n",
      "**************************************************\n",
      "10\n",
      "20\n",
      "30\n",
      "**************************************************\n",
      "10\n",
      "20\n",
      "30\n"
     ]
    }
   ],
   "source": [
    "#136\n",
    "변수 = 10 \n",
    "print(변수)\n",
    "변수 = 20\n",
    "print(변수)\n",
    "변수 = 30\n",
    "print(변수)\n",
    "\n",
    "print('*' * 50)\n",
    "\n",
    "li = [10,20,30]\n",
    "for 변수 in li:\n",
    "    print(변수)\n",
    "    \n",
    "print('*'*50)\n",
    "\n",
    "for 변수 in [10,20,30]:\n",
    "    print(변수)\n",
    "\n",
    "print('*' * 50)\n",
    "\n",
    "# 137\n",
    "print(10)\n",
    "print(20)\n",
    "print(30)\n",
    "\n",
    "print('*'*50)\n",
    "\n",
    "li=[10,20,30]\n",
    "for a in li:\n",
    "    print(a)"
   ]
  },
  {
   "cell_type": "code",
   "execution_count": 32,
   "metadata": {},
   "outputs": [
    {
     "name": "stdout",
     "output_type": "stream",
     "text": [
      "10\n",
      "---------\n",
      "20\n",
      "---------\n",
      "30\n",
      "---------\n",
      "10\n",
      "---------\n",
      "20\n",
      "---------\n",
      "30\n",
      "---------\n"
     ]
    }
   ],
   "source": [
    "# 138\n",
    "print(10)\n",
    "print('---------')\n",
    "print(20)\n",
    "print('---------')\n",
    "print(30)\n",
    "print('---------')\n",
    "\n",
    "li=[10,20,30]\n",
    "for a in li:\n",
    "    print(a)\n",
    "    print('---------')"
   ]
  },
  {
   "cell_type": "code",
   "execution_count": 33,
   "metadata": {},
   "outputs": [
    {
     "name": "stdout",
     "output_type": "stream",
     "text": [
      "++++\n",
      "10\n",
      "20\n",
      "30\n",
      "++++\n",
      "10\n",
      "20\n",
      "30\n"
     ]
    }
   ],
   "source": [
    "# 139\n",
    "print(\"++++\")\n",
    "print(10)\n",
    "print(20)\n",
    "print(30)\n",
    "\n",
    "print(\"++++\")\n",
    "li=[10,20,30]\n",
    "for a in li:\n",
    "    print(a)"
   ]
  },
  {
   "cell_type": "code",
   "execution_count": 37,
   "metadata": {},
   "outputs": [
    {
     "name": "stdout",
     "output_type": "stream",
     "text": [
      "-------\n",
      "-------\n",
      "-------\n",
      "-------\n",
      "-------\n",
      "-------\n",
      "-------\n",
      "-------\n",
      "-------\n",
      "-------\n",
      "-------\n",
      "-------\n"
     ]
    }
   ],
   "source": [
    "# 140\n",
    "print(\"-------\")\n",
    "print(\"-------\")\n",
    "print(\"-------\")\n",
    "print(\"-------\")\n",
    "\n",
    "for i in ['a','b','c','d']:\n",
    "    print(\"-------\")\n",
    "\n",
    "for i in [1,2,3,4]:\n",
    "    print(\"-------\")\n"
   ]
  },
  {
   "cell_type": "markdown",
   "metadata": {},
   "source": [
    "<141-150>"
   ]
  },
  {
   "cell_type": "code",
   "execution_count": 39,
   "metadata": {},
   "outputs": [
    {
     "name": "stdout",
     "output_type": "stream",
     "text": [
      "110\n",
      "210\n",
      "310\n"
     ]
    }
   ],
   "source": [
    "#141\n",
    "리스트=[100,200,300]\n",
    "\n",
    "for a in 리스트:\n",
    "    print(a+10)"
   ]
  },
  {
   "cell_type": "code",
   "execution_count": 42,
   "metadata": {},
   "outputs": [
    {
     "name": "stdout",
     "output_type": "stream",
     "text": [
      "오늘의 메뉴:  김밥\n",
      "오늘의 메뉴:  라면\n",
      "오늘의 메뉴:  튀김\n"
     ]
    }
   ],
   "source": [
    "#142\n",
    "리스트=['김밥','라면','튀김']\n",
    "\n",
    "for 메뉴 in 리스트:\n",
    "    print('오늘의 메뉴: ', 메뉴)"
   ]
  },
  {
   "cell_type": "code",
   "execution_count": 46,
   "metadata": {},
   "outputs": [
    {
     "name": "stdout",
     "output_type": "stream",
     "text": [
      "6\n",
      "4\n",
      "4\n",
      "**************************************************\n",
      "6\n",
      "4\n",
      "4\n"
     ]
    }
   ],
   "source": [
    "#143\n",
    "리스트 = [\"SK하이닉스\", \"삼성전자\", \"LG전자\"]\n",
    "\n",
    "for 종목명 in 리스트:\n",
    "    print(len(종목명))\n",
    "\n",
    "print('*'*50)\n",
    "\n",
    "for 종목명 in 리스트:\n",
    "    길이 = len(종목명)\n",
    "    print(길이)"
   ]
  },
  {
   "cell_type": "code",
   "execution_count": 47,
   "metadata": {},
   "outputs": [
    {
     "name": "stdout",
     "output_type": "stream",
     "text": [
      "dog 3\n",
      "cat 3\n",
      "parrot 6\n"
     ]
    }
   ],
   "source": [
    "#144\n",
    "li = ['dog', 'cat', 'parrot']\n",
    "\n",
    "for animal in li:\n",
    "    print(animal,len(animal))"
   ]
  },
  {
   "cell_type": "code",
   "execution_count": 48,
   "metadata": {},
   "outputs": [
    {
     "name": "stdout",
     "output_type": "stream",
     "text": [
      "d\n",
      "c\n",
      "p\n"
     ]
    }
   ],
   "source": [
    "# 145\n",
    "# for문을 사용해서 동물 이름의 첫 글자만 출력\n",
    "li = ['dog', 'cat', 'parrot']\n",
    "for animal in li:\n",
    "    print(animal[0])"
   ]
  },
  {
   "cell_type": "code",
   "execution_count": 50,
   "metadata": {},
   "outputs": [
    {
     "name": "stdout",
     "output_type": "stream",
     "text": [
      "3 x 1\n",
      "3 x 1\n",
      "3 x 2\n",
      "3 x 2\n",
      "3 x 3\n",
      "3 x 3\n"
     ]
    }
   ],
   "source": [
    "#146\n",
    "리스트 = [1, 2, 3]\n",
    "for num in 리스트:\n",
    "    print(\"3 x\",num)\n",
    "    print(\"3 x\",str(num)) # 문자로 변환 후 문자열 연산 사용\n",
    "    "
   ]
  },
  {
   "cell_type": "code",
   "execution_count": 56,
   "metadata": {
    "scrolled": true
   },
   "outputs": [
    {
     "name": "stdout",
     "output_type": "stream",
     "text": [
      "3 x 1 = 3\n",
      "3 x 2 = 6\n",
      "3 x 3 = 9\n",
      "**************************************************\n",
      "3 x 1 = 3\n",
      "3 x 2 = 6\n",
      "3 x 3 = 9\n"
     ]
    }
   ],
   "source": [
    "#147\n",
    "리스트 = [1, 2, 3]\n",
    "for num in 리스트:\n",
    "    print(\"3 x\",num,\"=\",3*num)\n",
    "\n",
    "print('*'*50)\n",
    "\n",
    "for num in 리스트:    \n",
    "    print('3 x {} = {}'.format(num, 3*num))"
   ]
  },
  {
   "cell_type": "code",
   "execution_count": 70,
   "metadata": {},
   "outputs": [
    {
     "name": "stdout",
     "output_type": "stream",
     "text": [
      "나\n",
      "다\n",
      "라\n"
     ]
    }
   ],
   "source": [
    "# 148\n",
    "리스트 = [\"가\", \"나\", \"다\", \"라\"]\n",
    "for han in 리스트[1:]:\n",
    "    print(han)"
   ]
  },
  {
   "cell_type": "code",
   "execution_count": 72,
   "metadata": {},
   "outputs": [
    {
     "name": "stdout",
     "output_type": "stream",
     "text": [
      "가\n",
      "다\n"
     ]
    }
   ],
   "source": [
    "# 149\n",
    "리스트 = ['가','나','다','라']\n",
    "for han in 리스트[::2]:\n",
    "    print(han)"
   ]
  },
  {
   "cell_type": "code",
   "execution_count": 73,
   "metadata": {},
   "outputs": [
    {
     "name": "stdout",
     "output_type": "stream",
     "text": [
      "라\n",
      "다\n",
      "나\n",
      "가\n"
     ]
    }
   ],
   "source": [
    "#150\n",
    "리스트=['가','나','다','라']\n",
    "for han in 리스트[::-1]:\n",
    "    print(han)"
   ]
  },
  {
   "cell_type": "markdown",
   "metadata": {},
   "source": [
    "<151-160>"
   ]
  },
  {
   "cell_type": "code",
   "execution_count": 74,
   "metadata": {},
   "outputs": [
    {
     "name": "stdout",
     "output_type": "stream",
     "text": [
      "-20\n",
      "-3\n"
     ]
    }
   ],
   "source": [
    "#151\n",
    "# for 문을 사용해서 리스트의 음수를 출력\n",
    "\n",
    "리스트=[3,-20,-3,44]\n",
    "for num in 리스트 : \n",
    "    if num < 0 :\n",
    "        print(num)"
   ]
  },
  {
   "cell_type": "code",
   "execution_count": 78,
   "metadata": {},
   "outputs": [
    {
     "name": "stdout",
     "output_type": "stream",
     "text": [
      "3\n"
     ]
    }
   ],
   "source": [
    "#152\n",
    "리스트=[3,100,23,44]\n",
    "for num in 리스트:\n",
    "    if num % 3 == 0:\n",
    "        print(num)"
   ]
  },
  {
   "cell_type": "code",
   "execution_count": 79,
   "metadata": {},
   "outputs": [
    {
     "name": "stdout",
     "output_type": "stream",
     "text": [
      "12\n",
      "18\n"
     ]
    }
   ],
   "source": [
    "#153\n",
    "#리스트에서 20보다 작은 3의 배수를 출력하라\n",
    "\n",
    "리스트 = [13,21,12,14,30,18]\n",
    "for num in 리스트:\n",
    "    if num < 20 and num % 3 == 0 :\n",
    "        print(num)"
   ]
  },
  {
   "cell_type": "code",
   "execution_count": null,
   "metadata": {},
   "outputs": [],
   "source": []
  },
  {
   "cell_type": "code",
   "execution_count": null,
   "metadata": {},
   "outputs": [],
   "source": []
  },
  {
   "cell_type": "code",
   "execution_count": null,
   "metadata": {},
   "outputs": [],
   "source": []
  }
 ],
 "metadata": {
  "kernelspec": {
   "display_name": "Python 3",
   "language": "python",
   "name": "python3"
  },
  "language_info": {
   "codemirror_mode": {
    "name": "ipython",
    "version": 3
   },
   "file_extension": ".py",
   "mimetype": "text/x-python",
   "name": "python",
   "nbconvert_exporter": "python",
   "pygments_lexer": "ipython3",
   "version": "3.8.3"
  }
 },
 "nbformat": 4,
 "nbformat_minor": 4
}
