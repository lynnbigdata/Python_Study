{
 "cells": [
  {
   "cell_type": "markdown",
   "metadata": {},
   "source": [
    "<131-140>"
   ]
  },
  {
   "cell_type": "code",
   "execution_count": 8,
   "metadata": {},
   "outputs": [
    {
     "name": "stdout",
     "output_type": "stream",
     "text": [
      "사과\n",
      "귤\n",
      "수박\n"
     ]
    }
   ],
   "source": [
    "#131,133\n",
    "#for 문의 실행결과 : 리스트에 들어있는 문자열이 한 라인에 하나씩 출력된다.\n",
    "#변수바인딩(변수='A')->변수출력(print(변수)) * 자료구조 데이터 개수\n",
    "\n",
    "과일 = ['사과','귤','수박']\n",
    "for 변수 in 과일:\n",
    "    print(변수)"
   ]
  },
  {
   "cell_type": "code",
   "execution_count": 4,
   "metadata": {},
   "outputs": [
    {
     "name": "stdout",
     "output_type": "stream",
     "text": [
      "#####\n",
      "#####\n",
      "#####\n"
     ]
    }
   ],
   "source": [
    "#132\n",
    "#for문의 핵심은 \"들여쓰기된 코드가 자료구조에 저장된 데이터 개수만큼 반복된다\"\n",
    "# 따라서 들여쓰기 된 print('#####') 코드가 세 번 실행된다.\n",
    "\n",
    "과일 = ['사과','귤','수박']\n",
    "for 변수 in 과일:\n",
    "    print('#####')\n"
   ]
  },
  {
   "cell_type": "code",
   "execution_count": 20,
   "metadata": {},
   "outputs": [
    {
     "name": "stdout",
     "output_type": "stream",
     "text": [
      "출력:  a\n",
      "출력:  b\n",
      "출력:  c\n",
      "**************************************************\n",
      "출력:  a\n",
      "출력:  b\n",
      "출력:  c\n"
     ]
    }
   ],
   "source": [
    "# 134\n",
    "# for 문을 풀어서 동일한 동작을 하는 코드를 작성하라\n",
    "for 변수 in ['a','b','c']:\n",
    "    print('출력: ', 변수)\n",
    "\n",
    "print('*'*50)\n",
    "\n",
    "변수 = 'a'\n",
    "print('출력: ', 변수)\n",
    "변수 = 'b'\n",
    "print('출력: ', 변수)\n",
    "변수 = 'c'\n",
    "print('출력: ', 변수)"
   ]
  },
  {
   "cell_type": "code",
   "execution_count": 19,
   "metadata": {},
   "outputs": [
    {
     "name": "stdout",
     "output_type": "stream",
     "text": [
      "변환:  A\n",
      "변환:  B\n",
      "변환:  C\n",
      "**************************************************\n",
      "변환:  A\n",
      "변환:  B\n",
      "변환:  C\n"
     ]
    }
   ],
   "source": [
    "#135\n",
    "#라인 1의 for문이 실행되면 변수에 첫번째 데이터를 바인딩한다\n",
    "#그리고 들여쓰기 된 라인 2의 코드를 실행한다.\n",
    "\n",
    "for 변수 in ['a','b','c']:\n",
    "    change=변수.upper()\n",
    "    print('변환: ',change)\n",
    "    \n",
    "print('*'*50)\n",
    "\n",
    "변수 = 'a'\n",
    "change=변수.upper()\n",
    "print('변환: ',change)\n",
    "변수 = 'b'\n",
    "change=변수.upper()\n",
    "print('변환: ', change)\n",
    "변수 = 'c'\n",
    "change=변수.upper()\n",
    "print('변환: ', change)"
   ]
  },
  {
   "cell_type": "code",
   "execution_count": 31,
   "metadata": {},
   "outputs": [
    {
     "name": "stdout",
     "output_type": "stream",
     "text": [
      "10\n",
      "20\n",
      "30\n",
      "**************************************************\n",
      "10\n",
      "20\n",
      "30\n",
      "**************************************************\n",
      "10\n",
      "20\n",
      "30\n",
      "**************************************************\n",
      "10\n",
      "20\n",
      "30\n",
      "**************************************************\n",
      "10\n",
      "20\n",
      "30\n"
     ]
    }
   ],
   "source": [
    "#136\n",
    "변수 = 10 \n",
    "print(변수)\n",
    "변수 = 20\n",
    "print(변수)\n",
    "변수 = 30\n",
    "print(변수)\n",
    "\n",
    "print('*' * 50)\n",
    "\n",
    "li = [10,20,30]\n",
    "for 변수 in li:\n",
    "    print(변수)\n",
    "    \n",
    "print('*'*50)\n",
    "\n",
    "for 변수 in [10,20,30]:\n",
    "    print(변수)\n",
    "\n",
    "print('*' * 50)\n",
    "\n",
    "# 137\n",
    "print(10)\n",
    "print(20)\n",
    "print(30)\n",
    "\n",
    "print('*'*50)\n",
    "\n",
    "li=[10,20,30]\n",
    "for a in li:\n",
    "    print(a)"
   ]
  },
  {
   "cell_type": "code",
   "execution_count": 32,
   "metadata": {},
   "outputs": [
    {
     "name": "stdout",
     "output_type": "stream",
     "text": [
      "10\n",
      "---------\n",
      "20\n",
      "---------\n",
      "30\n",
      "---------\n",
      "10\n",
      "---------\n",
      "20\n",
      "---------\n",
      "30\n",
      "---------\n"
     ]
    }
   ],
   "source": [
    "# 138\n",
    "print(10)\n",
    "print('---------')\n",
    "print(20)\n",
    "print('---------')\n",
    "print(30)\n",
    "print('---------')\n",
    "\n",
    "li=[10,20,30]\n",
    "for a in li:\n",
    "    print(a)\n",
    "    print('---------')"
   ]
  },
  {
   "cell_type": "code",
   "execution_count": 33,
   "metadata": {},
   "outputs": [
    {
     "name": "stdout",
     "output_type": "stream",
     "text": [
      "++++\n",
      "10\n",
      "20\n",
      "30\n",
      "++++\n",
      "10\n",
      "20\n",
      "30\n"
     ]
    }
   ],
   "source": [
    "# 139\n",
    "print(\"++++\")\n",
    "print(10)\n",
    "print(20)\n",
    "print(30)\n",
    "\n",
    "print(\"++++\")\n",
    "li=[10,20,30]\n",
    "for a in li:\n",
    "    print(a)"
   ]
  },
  {
   "cell_type": "code",
   "execution_count": 37,
   "metadata": {},
   "outputs": [
    {
     "name": "stdout",
     "output_type": "stream",
     "text": [
      "-------\n",
      "-------\n",
      "-------\n",
      "-------\n",
      "-------\n",
      "-------\n",
      "-------\n",
      "-------\n",
      "-------\n",
      "-------\n",
      "-------\n",
      "-------\n"
     ]
    }
   ],
   "source": [
    "# 140\n",
    "print(\"-------\")\n",
    "print(\"-------\")\n",
    "print(\"-------\")\n",
    "print(\"-------\")\n",
    "\n",
    "for i in ['a','b','c','d']:\n",
    "    print(\"-------\")\n",
    "\n",
    "for i in [1,2,3,4]:\n",
    "    print(\"-------\")\n"
   ]
  },
  {
   "cell_type": "markdown",
   "metadata": {},
   "source": [
    "<141-150>"
   ]
  },
  {
   "cell_type": "code",
   "execution_count": 39,
   "metadata": {},
   "outputs": [
    {
     "name": "stdout",
     "output_type": "stream",
     "text": [
      "110\n",
      "210\n",
      "310\n"
     ]
    }
   ],
   "source": [
    "#141\n",
    "리스트=[100,200,300]\n",
    "\n",
    "for a in 리스트:\n",
    "    print(a+10)"
   ]
  },
  {
   "cell_type": "code",
   "execution_count": 42,
   "metadata": {},
   "outputs": [
    {
     "name": "stdout",
     "output_type": "stream",
     "text": [
      "오늘의 메뉴:  김밥\n",
      "오늘의 메뉴:  라면\n",
      "오늘의 메뉴:  튀김\n"
     ]
    }
   ],
   "source": [
    "#142\n",
    "리스트=['김밥','라면','튀김']\n",
    "\n",
    "for 메뉴 in 리스트:\n",
    "    print('오늘의 메뉴: ', 메뉴)"
   ]
  },
  {
   "cell_type": "code",
   "execution_count": 46,
   "metadata": {},
   "outputs": [
    {
     "name": "stdout",
     "output_type": "stream",
     "text": [
      "6\n",
      "4\n",
      "4\n",
      "**************************************************\n",
      "6\n",
      "4\n",
      "4\n"
     ]
    }
   ],
   "source": [
    "#143\n",
    "리스트 = [\"SK하이닉스\", \"삼성전자\", \"LG전자\"]\n",
    "\n",
    "for 종목명 in 리스트:\n",
    "    print(len(종목명))\n",
    "\n",
    "print('*'*50)\n",
    "\n",
    "for 종목명 in 리스트:\n",
    "    길이 = len(종목명)\n",
    "    print(길이)"
   ]
  },
  {
   "cell_type": "code",
   "execution_count": 47,
   "metadata": {},
   "outputs": [
    {
     "name": "stdout",
     "output_type": "stream",
     "text": [
      "dog 3\n",
      "cat 3\n",
      "parrot 6\n"
     ]
    }
   ],
   "source": [
    "#144\n",
    "li = ['dog', 'cat', 'parrot']\n",
    "\n",
    "for animal in li:\n",
    "    print(animal,len(animal))"
   ]
  },
  {
   "cell_type": "code",
   "execution_count": 48,
   "metadata": {},
   "outputs": [
    {
     "name": "stdout",
     "output_type": "stream",
     "text": [
      "d\n",
      "c\n",
      "p\n"
     ]
    }
   ],
   "source": [
    "# 145\n",
    "# for문을 사용해서 동물 이름의 첫 글자만 출력\n",
    "li = ['dog', 'cat', 'parrot']\n",
    "for animal in li:\n",
    "    print(animal[0])"
   ]
  },
  {
   "cell_type": "code",
   "execution_count": 50,
   "metadata": {},
   "outputs": [
    {
     "name": "stdout",
     "output_type": "stream",
     "text": [
      "3 x 1\n",
      "3 x 1\n",
      "3 x 2\n",
      "3 x 2\n",
      "3 x 3\n",
      "3 x 3\n"
     ]
    }
   ],
   "source": [
    "#146\n",
    "리스트 = [1, 2, 3]\n",
    "for num in 리스트:\n",
    "    print(\"3 x\",num)\n",
    "    print(\"3 x\",str(num)) # 문자로 변환 후 문자열 연산 사용\n",
    "    "
   ]
  },
  {
   "cell_type": "code",
   "execution_count": 56,
   "metadata": {
    "scrolled": true
   },
   "outputs": [
    {
     "name": "stdout",
     "output_type": "stream",
     "text": [
      "3 x 1 = 3\n",
      "3 x 2 = 6\n",
      "3 x 3 = 9\n",
      "**************************************************\n",
      "3 x 1 = 3\n",
      "3 x 2 = 6\n",
      "3 x 3 = 9\n"
     ]
    }
   ],
   "source": [
    "#147\n",
    "리스트 = [1, 2, 3]\n",
    "for num in 리스트:\n",
    "    print(\"3 x\",num,\"=\",3*num)\n",
    "\n",
    "print('*'*50)\n",
    "\n",
    "for num in 리스트:    \n",
    "    print('3 x {} = {}'.format(num, 3*num))"
   ]
  },
  {
   "cell_type": "code",
   "execution_count": 70,
   "metadata": {},
   "outputs": [
    {
     "name": "stdout",
     "output_type": "stream",
     "text": [
      "나\n",
      "다\n",
      "라\n"
     ]
    }
   ],
   "source": [
    "# 148\n",
    "리스트 = [\"가\", \"나\", \"다\", \"라\"]\n",
    "for han in 리스트[1:]:\n",
    "    print(han)"
   ]
  },
  {
   "cell_type": "code",
   "execution_count": 72,
   "metadata": {},
   "outputs": [
    {
     "name": "stdout",
     "output_type": "stream",
     "text": [
      "가\n",
      "다\n"
     ]
    }
   ],
   "source": [
    "# 149\n",
    "리스트 = ['가','나','다','라']\n",
    "for han in 리스트[::2]:\n",
    "    print(han)"
   ]
  },
  {
   "cell_type": "code",
   "execution_count": 73,
   "metadata": {},
   "outputs": [
    {
     "name": "stdout",
     "output_type": "stream",
     "text": [
      "라\n",
      "다\n",
      "나\n",
      "가\n"
     ]
    }
   ],
   "source": [
    "#150\n",
    "리스트=['가','나','다','라']\n",
    "for han in 리스트[::-1]:\n",
    "    print(han)"
   ]
  },
  {
   "cell_type": "markdown",
   "metadata": {},
   "source": [
    "<151-160>"
   ]
  },
  {
   "cell_type": "code",
   "execution_count": 74,
   "metadata": {},
   "outputs": [
    {
     "name": "stdout",
     "output_type": "stream",
     "text": [
      "-20\n",
      "-3\n"
     ]
    }
   ],
   "source": [
    "#151\n",
    "# for 문을 사용해서 리스트의 음수를 출력\n",
    "\n",
    "리스트=[3,-20,-3,44]\n",
    "for num in 리스트 : \n",
    "    if num < 0 :\n",
    "        print(num)"
   ]
  },
  {
   "cell_type": "code",
   "execution_count": 78,
   "metadata": {},
   "outputs": [
    {
     "name": "stdout",
     "output_type": "stream",
     "text": [
      "3\n"
     ]
    }
   ],
   "source": [
    "#152\n",
    "리스트=[3,100,23,44]\n",
    "for num in 리스트:\n",
    "    if num % 3 == 0:\n",
    "        print(num)"
   ]
  },
  {
   "cell_type": "code",
   "execution_count": 79,
   "metadata": {},
   "outputs": [
    {
     "name": "stdout",
     "output_type": "stream",
     "text": [
      "12\n",
      "18\n"
     ]
    }
   ],
   "source": [
    "#153\n",
    "#리스트에서 20보다 작은 3의 배수를 출력하라\n",
    "\n",
    "리스트 = [13,21,12,14,30,18]\n",
    "for num in 리스트:\n",
    "    if num < 20 and num % 3 == 0 :\n",
    "        print(num)"
   ]
  },
  {
   "cell_type": "code",
   "execution_count": 4,
   "metadata": {},
   "outputs": [
    {
     "name": "stdout",
     "output_type": "stream",
     "text": [
      "study\n",
      "python\n",
      "language\n"
     ]
    }
   ],
   "source": [
    "#154\n",
    "#리스트에서 세 글자 이상의 문자를 화면에 출력하라\n",
    "list = [\"I\", \"study\", \"python\", \"language\", \"!\"]\n",
    "\n",
    "for i in list:\n",
    "    if len(i) >= 3:\n",
    "        print(i)"
   ]
  },
  {
   "cell_type": "code",
   "execution_count": 6,
   "metadata": {},
   "outputs": [
    {
     "name": "stdout",
     "output_type": "stream",
     "text": [
      "A\n",
      "D\n"
     ]
    }
   ],
   "source": [
    "#155 \n",
    "#리스트에서 대문자만 화면에 출력하라. \n",
    "#isupper() : 대문자 여부를 판별한다.\n",
    "\n",
    "list = [\"A\", \"b\", \"c\", \"D\"]\n",
    "for i in list:\n",
    "    if i.isupper():\n",
    "        print(i)"
   ]
  },
  {
   "cell_type": "code",
   "execution_count": 9,
   "metadata": {},
   "outputs": [
    {
     "data": {
      "text/plain": [
       "False"
      ]
     },
     "execution_count": 9,
     "metadata": {},
     "output_type": "execute_result"
    }
   ],
   "source": [
    "#isupper()\n",
    "# a = 'A'\n",
    "# a.isupper()\n",
    "\n",
    "b = 'a'\n",
    "b.isupper()"
   ]
  },
  {
   "cell_type": "code",
   "execution_count": 10,
   "metadata": {},
   "outputs": [
    {
     "name": "stdout",
     "output_type": "stream",
     "text": [
      "b\n",
      "c\n"
     ]
    }
   ],
   "source": [
    "#156\n",
    "#리스트에서 소문자만 화면에 출력하라. \n",
    "#islower() : 소문자 여부를 판별한다.\n",
    "\n",
    "list = [\"A\", \"b\", \"c\", \"D\"]\n",
    "for i in list:\n",
    "    if i.islower():\n",
    "        print(i)"
   ]
  },
  {
   "cell_type": "code",
   "execution_count": 11,
   "metadata": {},
   "outputs": [
    {
     "name": "stdout",
     "output_type": "stream",
     "text": [
      "b\n",
      "c\n"
     ]
    }
   ],
   "source": [
    "list = [\"A\", \"b\", \"c\", \"D\"]\n",
    "for i in list:\n",
    "    if i.isupper() == False:\n",
    "        print(i)"
   ]
  },
  {
   "cell_type": "code",
   "execution_count": 12,
   "metadata": {},
   "outputs": [
    {
     "name": "stdout",
     "output_type": "stream",
     "text": [
      "b\n",
      "c\n"
     ]
    }
   ],
   "source": [
    "list = [\"A\", \"b\", \"c\", \"D\"]\n",
    "for i in list:\n",
    "    if i.isupper() != True:\n",
    "        print(i)"
   ]
  },
  {
   "cell_type": "code",
   "execution_count": 13,
   "metadata": {},
   "outputs": [
    {
     "name": "stdout",
     "output_type": "stream",
     "text": [
      "b\n",
      "c\n"
     ]
    }
   ],
   "source": [
    "list = [\"A\", \"b\", \"c\", \"D\"]\n",
    "for i in list:\n",
    "    if not i.isupper():\n",
    "        print(i)"
   ]
  },
  {
   "cell_type": "code",
   "execution_count": 21,
   "metadata": {},
   "outputs": [
    {
     "name": "stdout",
     "output_type": "stream",
     "text": [
      "Dog\n",
      "Cat\n",
      "Parrot\n"
     ]
    }
   ],
   "source": [
    "#157\n",
    "#이름의 첫 글자를 대문자로 변경해서 출력하라.\n",
    "# upper() 메서드는 문자열을 대문자로 변경합니다.\n",
    "\n",
    "list = ['dog', 'cat', 'parrot']\n",
    "for i in list:\n",
    "        print(i[0].upper()+i[1:])\n"
   ]
  },
  {
   "cell_type": "code",
   "execution_count": 17,
   "metadata": {},
   "outputs": [
    {
     "data": {
      "text/plain": [
       "False"
      ]
     },
     "execution_count": 17,
     "metadata": {},
     "output_type": "execute_result"
    }
   ],
   "source": [
    "list = ['dog', 'cat', 'parrot']\n",
    "list[0][0].isupper()"
   ]
  },
  {
   "cell_type": "code",
   "execution_count": 22,
   "metadata": {},
   "outputs": [
    {
     "name": "stdout",
     "output_type": "stream",
     "text": [
      "Dog\n",
      "Cat\n",
      "Parrot\n"
     ]
    }
   ],
   "source": [
    "# 157 접근 방법\n",
    "# 1) 인덱싱으로 첫번째 문자를 가져온다\n",
    "# 2) upper()함수로 대문자로 변경한다\n",
    "# 3) 변경한 대문자와 나머지 문자를 이어붙인다.\n",
    "\n",
    "list = ['dog', 'cat', 'parrot']\n",
    "for i in list:\n",
    "    첫글자 = i[0]\n",
    "    대문자 = 첫글자.upper()\n",
    "    print(대문자+i[1:])"
   ]
  },
  {
   "cell_type": "code",
   "execution_count": 32,
   "metadata": {},
   "outputs": [
    {
     "name": "stdout",
     "output_type": "stream",
     "text": [
      "hello\n",
      "ex01\n",
      "intro\n"
     ]
    }
   ],
   "source": [
    "# 158\n",
    "# 파일 이름이 저장된 리스트에서 확장자를 제거하고 파일 이름만 화면에 출력하라. (힌트: split() 메서드)\n",
    "# split() : 문자열을 입력된 구분자로 분할해서 리스트로 반환한다.\n",
    "\n",
    "list = ['hello.py', 'ex01.py', 'intro.hwp']\n",
    "for i in list:\n",
    "    split = i.split(\".\")\n",
    "    print(split[0])"
   ]
  },
  {
   "cell_type": "code",
   "execution_count": 35,
   "metadata": {},
   "outputs": [
    {
     "data": {
      "text/plain": [
       "'hello'"
      ]
     },
     "execution_count": 35,
     "metadata": {},
     "output_type": "execute_result"
    }
   ],
   "source": [
    "list = ['hello.py', 'ex01.py', 'intro.hwp']\n",
    "split = list[0].split(\".\")\n",
    "split[0]"
   ]
  },
  {
   "cell_type": "code",
   "execution_count": 37,
   "metadata": {},
   "outputs": [
    {
     "name": "stdout",
     "output_type": "stream",
     "text": [
      "intra.h\n",
      "define.h\n"
     ]
    }
   ],
   "source": [
    "# 159\n",
    "# 파일 이름이 저장된 리스트에서 확장자가 .h인 파일 이름을 출력하라.\n",
    "# split() 으로 문자열을 분할하고 확장자가 'h'인지 분기문으로 비교한다.\n",
    "# 만약 확장자가 'h'라면 파일 이름을 출력한다.\n",
    "\n",
    "list = ['intra.h', 'intra.c', 'define.h', 'run.py']\n",
    "for i in list:\n",
    "    split = i.split(\".\")\n",
    "    if split[1] == 'h':\n",
    "        print(i)"
   ]
  },
  {
   "cell_type": "code",
   "execution_count": 39,
   "metadata": {},
   "outputs": [
    {
     "name": "stdout",
     "output_type": "stream",
     "text": [
      "intra.h\n",
      "intra.c\n",
      "define.h\n"
     ]
    }
   ],
   "source": [
    "# 160\n",
    "# 파일 이름이 저장된 리스트에서 확장자가 .h나 .c인 파일을 화면에 출력하라.\n",
    "\n",
    "리스트 = ['intra.h', 'intra.c', 'define.h', 'run.py']\n",
    "for 변수 in 리스트:\n",
    "    split = 변수.split('.')\n",
    "    if (split[1] == 'h') or (split[1] == 'c'):\n",
    "        print(변수)"
   ]
  }
 ],
 "metadata": {
  "kernelspec": {
   "display_name": "Python 3",
   "language": "python",
   "name": "python3"
  },
  "language_info": {
   "codemirror_mode": {
    "name": "ipython",
    "version": 3
   },
   "file_extension": ".py",
   "mimetype": "text/x-python",
   "name": "python",
   "nbconvert_exporter": "python",
   "pygments_lexer": "ipython3",
   "version": "3.8.3"
  }
 },
 "nbformat": 4,
 "nbformat_minor": 4
}
